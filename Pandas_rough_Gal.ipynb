{
 "cells": [
  {
   "cell_type": "code",
   "execution_count": 89,
   "metadata": {},
   "outputs": [],
   "source": [
    "#importing required libraries\n",
    "import pandas as pd\n",
    "import numpy as np\n",
    "import matplotlib as plt\n",
    "import random\n",
    "%matplotlib inline\n",
    "random.seed(1000)"
   ]
  },
  {
   "cell_type": "code",
   "execution_count": 90,
   "metadata": {
    "collapsed": true
   },
   "outputs": [],
   "source": [
    "#input data\n",
    "df=pd.read_csv(\"/Users/Pushkar/Desktop/july18/April 2018/galvanize/dsi-pandas/data/hospital-costs.csv\")"
   ]
  },
  {
   "cell_type": "code",
   "execution_count": 91,
   "metadata": {},
   "outputs": [
    {
     "data": {
      "text/plain": [
       "Year                                     0\n",
       "Facility Id                              0\n",
       "Facility Name                            0\n",
       "APR DRG Code                             0\n",
       "APR Severity of Illness Code             0\n",
       "APR DRG Description                      0\n",
       "APR Severity of Illness Description    164\n",
       "APR Medical Surgical Code              164\n",
       "APR Medical Surgical Description         0\n",
       "Discharges                               0\n",
       "Mean Charge                              0\n",
       "Median Charge                            0\n",
       "Mean Cost                                0\n",
       "Median Cost                              0\n",
       "dtype: int64"
      ]
     },
     "execution_count": 91,
     "metadata": {},
     "output_type": "execute_result"
    }
   ],
   "source": [
    "#Getting familiarize with the data\n",
    "#Finding the shape and heads of the df\n",
    "df.shape\n",
    "df.head(10)\n",
    "\n",
    "#finging data types in the df\n",
    "df.dtypes\n",
    "\n",
    "#total number of columns in the df\n",
    "len(df.columns)\n",
    "\n",
    "#Understand null values in the df\n",
    "df.isna().sum()\n"
   ]
  },
  {
   "cell_type": "markdown",
   "metadata": {},
   "source": [
    "#1. Create a new column \"Total Charges\" using \"Discharges\" and \"Mean Charge\"."
   ]
  },
  {
   "cell_type": "code",
   "execution_count": 92,
   "metadata": {},
   "outputs": [],
   "source": [
    "df['Total Charges']=df['Discharges']*df['Mean Charge']"
   ]
  },
  {
   "cell_type": "markdown",
   "metadata": {},
   "source": [
    "#2. Do the same for the \"Total Costs\" using \"Mean Cost\""
   ]
  },
  {
   "cell_type": "code",
   "execution_count": 93,
   "metadata": {
    "collapsed": true
   },
   "outputs": [],
   "source": [
    "df['Total Cost']=df['Discharges']*df['Mean Cost']"
   ]
  },
  {
   "cell_type": "markdown",
   "metadata": {},
   "source": [
    "#3.With these two new \"Total Charges\" and \"Total Costs\" columns, calculate the charges to costs \"markup\" rate."
   ]
  },
  {
   "cell_type": "code",
   "execution_count": 94,
   "metadata": {},
   "outputs": [],
   "source": [
    "df['markup rate']=df['Total Charges']/df['Total Cost']"
   ]
  },
  {
   "cell_type": "markdown",
   "metadata": {},
   "source": [
    "#4.Tell me which facility has the highest \"markup\" rate, and which one has the lowest \"markup\" rate. (It's always good to do a sanity check, do these results make sense to you?)"
   ]
  },
  {
   "cell_type": "code",
   "execution_count": 95,
   "metadata": {},
   "outputs": [
    {
     "data": {
      "text/html": [
       "<div>\n",
       "<style scoped>\n",
       "    .dataframe tbody tr th:only-of-type {\n",
       "        vertical-align: middle;\n",
       "    }\n",
       "\n",
       "    .dataframe tbody tr th {\n",
       "        vertical-align: top;\n",
       "    }\n",
       "\n",
       "    .dataframe thead th {\n",
       "        text-align: right;\n",
       "    }\n",
       "</style>\n",
       "<table border=\"1\" class=\"dataframe\">\n",
       "  <thead>\n",
       "    <tr style=\"text-align: right;\">\n",
       "      <th></th>\n",
       "      <th>Facility Name</th>\n",
       "      <th>Total Charges</th>\n",
       "      <th>Total Cost</th>\n",
       "      <th>markup rate</th>\n",
       "    </tr>\n",
       "  </thead>\n",
       "  <tbody>\n",
       "    <tr>\n",
       "      <th>111925</th>\n",
       "      <td>SUNY Downstate Medical Center at LICH</td>\n",
       "      <td>43088.0</td>\n",
       "      <td>2068.0</td>\n",
       "      <td>20.83559</td>\n",
       "    </tr>\n",
       "  </tbody>\n",
       "</table>\n",
       "</div>"
      ],
      "text/plain": [
       "                                Facility Name  Total Charges  Total Cost  \\\n",
       "111925  SUNY Downstate Medical Center at LICH        43088.0      2068.0   \n",
       "\n",
       "        markup rate  \n",
       "111925     20.83559  "
      ]
     },
     "execution_count": 95,
     "metadata": {},
     "output_type": "execute_result"
    }
   ],
   "source": [
    "#Finding the unique categories in the data\n",
    "len(df['Facility Name'].unique())\n",
    "\n",
    "#min/max\n",
    "max(df['markup rate'])\n",
    "min(df['markup rate'])\n",
    "\n",
    "#Sorting the column\n",
    "df=df.sort_values(by=['markup rate'],ascending=True)\n",
    "\n",
    "#facility has the highest \"markup\" rate\n",
    "df[['Facility Name','Total Charges','Total Cost','markup rate']].head(1)\n",
    "\n",
    "#facility has the lowest \"markup\" rate\n",
    "df[['Facility Name','Total Charges','Total Cost','markup rate']].tail(1)"
   ]
  },
  {
   "cell_type": "markdown",
   "metadata": {},
   "source": [
    "##What are the top 10 reasons people are going to the hospital for, and how many people did they see."
   ]
  },
  {
   "cell_type": "code",
   "execution_count": 97,
   "metadata": {},
   "outputs": [
    {
     "data": {
      "text/plain": [
       "APR DRG Description\n",
       "Pancreas Transplant                                                120\n",
       "Neonate W Ecmo                                                     123\n",
       "Principal Diagnosis Invalid As Discharge Diagnosis                 129\n",
       "Extensive 3Rd Degree Burns W Skin Graft                            132\n",
       "Neonate, Transferred <5 Days Old, Not Born Here                    224\n",
       "Ungroupable                                                        359\n",
       "Neonate Birthwt 1000-1249G W Or W/O Other Significant Condition    477\n",
       "Neonatal Aftercare                                                 497\n",
       "Craniotomy For Multiple Significant Trauma                         515\n",
       "Mental Illness Diagnosis W O.R. Procedure                          532\n",
       "Name: Discharges, dtype: int64"
      ]
     },
     "execution_count": 97,
     "metadata": {},
     "output_type": "execute_result"
    }
   ],
   "source": [
    "d_grp=df.groupby(['APR DRG Description'])['Discharges'].sum()\n",
    "d_grp=d_grp.sort_values()\n",
    "d_grp.head(10)"
   ]
  },
  {
   "cell_type": "markdown",
   "metadata": {},
   "source": [
    "1.Create a new DataFrame named \"net\" that is only the Facility Name, Total Charge, Total Cost from our original DataFrame\n",
    "\n",
    "2.Find the total amount each hospital spent, and how much they charged. (Group your data by Facility names, and sum all the total costs and total charges)\n",
    "\n",
    "3.Now find the net income for every hospital. Tell me the most profitable and the least profitable ones and how much are they making?"
   ]
  },
  {
   "cell_type": "code",
   "execution_count": 124,
   "metadata": {},
   "outputs": [
    {
     "data": {
      "text/html": [
       "<div>\n",
       "<style scoped>\n",
       "    .dataframe tbody tr th:only-of-type {\n",
       "        vertical-align: middle;\n",
       "    }\n",
       "\n",
       "    .dataframe tbody tr th {\n",
       "        vertical-align: top;\n",
       "    }\n",
       "\n",
       "    .dataframe thead th {\n",
       "        text-align: right;\n",
       "    }\n",
       "</style>\n",
       "<table border=\"1\" class=\"dataframe\">\n",
       "  <thead>\n",
       "    <tr style=\"text-align: right;\">\n",
       "      <th></th>\n",
       "      <th>Total Charges</th>\n",
       "      <th>Total Cost</th>\n",
       "      <th>Total</th>\n",
       "      <th>Net Income</th>\n",
       "    </tr>\n",
       "    <tr>\n",
       "      <th>Facility Name</th>\n",
       "      <th></th>\n",
       "      <th></th>\n",
       "      <th></th>\n",
       "      <th></th>\n",
       "    </tr>\n",
       "  </thead>\n",
       "  <tbody>\n",
       "    <tr>\n",
       "      <th>Wyoming County Community Hospital</th>\n",
       "      <td>52863279.0</td>\n",
       "      <td>49547081.0</td>\n",
       "      <td>102410360.0</td>\n",
       "      <td>3316198.0</td>\n",
       "    </tr>\n",
       "  </tbody>\n",
       "</table>\n",
       "</div>"
      ],
      "text/plain": [
       "                                   Total Charges  Total Cost        Total  \\\n",
       "Facility Name                                                               \n",
       "Wyoming County Community Hospital     52863279.0  49547081.0  102410360.0   \n",
       "\n",
       "                                   Net Income  \n",
       "Facility Name                                  \n",
       "Wyoming County Community Hospital   3316198.0  "
      ]
     },
     "execution_count": 124,
     "metadata": {},
     "output_type": "execute_result"
    }
   ],
   "source": [
    "net=df[['Facility Name', 'Total Charges', 'Total Cost']]\n",
    "spent=df.groupby(['Facility Name'])['Total Charges','Total Cost'].sum()\n",
    "spent['Total']=spent['Total Charges']+spent['Total Cost']\n",
    "spent['Net Income']=spent['Total Charges']-spent['Total Cost']\n",
    "\n",
    "spent.sort_values('Net Income',ascending =True)\n",
    "spent.head(1)\n",
    "spent.tail(1)"
   ]
  },
  {
   "cell_type": "code",
   "execution_count": 126,
   "metadata": {},
   "outputs": [],
   "source": [
    "newdf=df[df[\"APR DRG Description\"]==\"Viral Meningitis\"]"
   ]
  },
  {
   "cell_type": "code",
   "execution_count": 128,
   "metadata": {},
   "outputs": [],
   "source": [
    "newdf=newdf[[\"Facility Name\", \"APR DRG Description\",\"APR Severity of Illness Description\",\n",
    "            \"Discharges\", \"Mean Charge\", \"Median Charge\", \"Mean Cost\"]]"
   ]
  },
  {
   "cell_type": "code",
   "execution_count": 129,
   "metadata": {},
   "outputs": [
    {
     "data": {
      "text/plain": [
       "Index(['Facility Name', 'APR DRG Description',\n",
       "       'APR Severity of Illness Description', 'Discharges', 'Mean Charge',\n",
       "       'Median Charge', 'Mean Cost'],\n",
       "      dtype='object')"
      ]
     },
     "execution_count": 129,
     "metadata": {},
     "output_type": "execute_result"
    }
   ],
   "source": [
    "newdf.columns"
   ]
  },
  {
   "cell_type": "code",
   "execution_count": 131,
   "metadata": {},
   "outputs": [
    {
     "data": {
      "text/html": [
       "<div>\n",
       "<style scoped>\n",
       "    .dataframe tbody tr th:only-of-type {\n",
       "        vertical-align: middle;\n",
       "    }\n",
       "\n",
       "    .dataframe tbody tr th {\n",
       "        vertical-align: top;\n",
       "    }\n",
       "\n",
       "    .dataframe thead th {\n",
       "        text-align: right;\n",
       "    }\n",
       "</style>\n",
       "<table border=\"1\" class=\"dataframe\">\n",
       "  <thead>\n",
       "    <tr style=\"text-align: right;\">\n",
       "      <th></th>\n",
       "      <th>Facility Name</th>\n",
       "      <th>APR DRG Description</th>\n",
       "      <th>APR Severity of Illness Description</th>\n",
       "      <th>Discharges</th>\n",
       "      <th>Mean Charge</th>\n",
       "      <th>Median Charge</th>\n",
       "      <th>Mean Cost</th>\n",
       "    </tr>\n",
       "  </thead>\n",
       "  <tbody>\n",
       "    <tr>\n",
       "      <th>373822</th>\n",
       "      <td>University Hospital of Brooklyn</td>\n",
       "      <td>Viral Meningitis</td>\n",
       "      <td>Moderate</td>\n",
       "      <td>2</td>\n",
       "      <td>15209.0</td>\n",
       "      <td>15209.0</td>\n",
       "      <td>20082.0</td>\n",
       "    </tr>\n",
       "    <tr>\n",
       "      <th>45157</th>\n",
       "      <td>Lincoln Medical &amp; Mental Health Center</td>\n",
       "      <td>Viral Meningitis</td>\n",
       "      <td>Major</td>\n",
       "      <td>1</td>\n",
       "      <td>3929.0</td>\n",
       "      <td>3929.0</td>\n",
       "      <td>3894.0</td>\n",
       "    </tr>\n",
       "    <tr>\n",
       "      <th>300150</th>\n",
       "      <td>Lincoln Medical &amp; Mental Health Center</td>\n",
       "      <td>Viral Meningitis</td>\n",
       "      <td>Moderate</td>\n",
       "      <td>7</td>\n",
       "      <td>12765.0</td>\n",
       "      <td>7731.0</td>\n",
       "      <td>12651.0</td>\n",
       "    </tr>\n",
       "    <tr>\n",
       "      <th>45156</th>\n",
       "      <td>Lincoln Medical &amp; Mental Health Center</td>\n",
       "      <td>Viral Meningitis</td>\n",
       "      <td>Moderate</td>\n",
       "      <td>5</td>\n",
       "      <td>8830.0</td>\n",
       "      <td>6517.0</td>\n",
       "      <td>8751.0</td>\n",
       "    </tr>\n",
       "  </tbody>\n",
       "</table>\n",
       "</div>"
      ],
      "text/plain": [
       "                                 Facility Name APR DRG Description  \\\n",
       "373822         University Hospital of Brooklyn    Viral Meningitis   \n",
       "45157   Lincoln Medical & Mental Health Center    Viral Meningitis   \n",
       "300150  Lincoln Medical & Mental Health Center    Viral Meningitis   \n",
       "45156   Lincoln Medical & Mental Health Center    Viral Meningitis   \n",
       "\n",
       "       APR Severity of Illness Description  Discharges  Mean Charge  \\\n",
       "373822                            Moderate           2      15209.0   \n",
       "45157                                Major           1       3929.0   \n",
       "300150                            Moderate           7      12765.0   \n",
       "45156                             Moderate           5       8830.0   \n",
       "\n",
       "        Median Charge  Mean Cost  \n",
       "373822        15209.0    20082.0  \n",
       "45157          3929.0     3894.0  \n",
       "300150         7731.0    12651.0  \n",
       "45156          6517.0     8751.0  "
      ]
     },
     "execution_count": 131,
     "metadata": {},
     "output_type": "execute_result"
    }
   ],
   "source": [
    "newdf.head(4)"
   ]
  },
  {
   "cell_type": "markdown",
   "metadata": {},
   "source": [
    "4.Find which hospital discharges the most cases of Viral Meningitis for all levels of severity."
   ]
  },
  {
   "cell_type": "code",
   "execution_count": 135,
   "metadata": {},
   "outputs": [
    {
     "data": {
      "text/html": [
       "<div>\n",
       "<style scoped>\n",
       "    .dataframe tbody tr th:only-of-type {\n",
       "        vertical-align: middle;\n",
       "    }\n",
       "\n",
       "    .dataframe tbody tr th {\n",
       "        vertical-align: top;\n",
       "    }\n",
       "\n",
       "    .dataframe thead th {\n",
       "        text-align: right;\n",
       "    }\n",
       "</style>\n",
       "<table border=\"1\" class=\"dataframe\">\n",
       "  <thead>\n",
       "    <tr style=\"text-align: right;\">\n",
       "      <th></th>\n",
       "      <th>Facility Name</th>\n",
       "      <th>APR DRG Description</th>\n",
       "      <th>APR Severity of Illness Description</th>\n",
       "      <th>Discharges</th>\n",
       "      <th>Mean Charge</th>\n",
       "      <th>Median Charge</th>\n",
       "      <th>Mean Cost</th>\n",
       "    </tr>\n",
       "  </thead>\n",
       "  <tbody>\n",
       "    <tr>\n",
       "      <th>258259</th>\n",
       "      <td>Aurelia Osborn Fox Memorial Hospital</td>\n",
       "      <td>Viral Meningitis</td>\n",
       "      <td>Moderate</td>\n",
       "      <td>1</td>\n",
       "      <td>1179.0</td>\n",
       "      <td>1179.0</td>\n",
       "      <td>1040.0</td>\n",
       "    </tr>\n",
       "  </tbody>\n",
       "</table>\n",
       "</div>"
      ],
      "text/plain": [
       "                               Facility Name APR DRG Description  \\\n",
       "258259  Aurelia Osborn Fox Memorial Hospital    Viral Meningitis   \n",
       "\n",
       "       APR Severity of Illness Description  Discharges  Mean Charge  \\\n",
       "258259                            Moderate           1       1179.0   \n",
       "\n",
       "        Median Charge  Mean Cost  \n",
       "258259         1179.0     1040.0  "
      ]
     },
     "execution_count": 135,
     "metadata": {},
     "output_type": "execute_result"
    }
   ],
   "source": [
    "newdf=newdf.sort_values('Mean Charge')\n",
    "newdf.head(1)"
   ]
  },
  {
   "cell_type": "markdown",
   "metadata": {},
   "source": [
    "5.Find which hospital is the least expensive for treating Moderate cases of VM that have more than 3 Discharges."
   ]
  },
  {
   "cell_type": "code",
   "execution_count": 149,
   "metadata": {},
   "outputs": [
    {
     "data": {
      "text/html": [
       "<div>\n",
       "<style scoped>\n",
       "    .dataframe tbody tr th:only-of-type {\n",
       "        vertical-align: middle;\n",
       "    }\n",
       "\n",
       "    .dataframe tbody tr th {\n",
       "        vertical-align: top;\n",
       "    }\n",
       "\n",
       "    .dataframe thead th {\n",
       "        text-align: right;\n",
       "    }\n",
       "</style>\n",
       "<table border=\"1\" class=\"dataframe\">\n",
       "  <thead>\n",
       "    <tr style=\"text-align: right;\">\n",
       "      <th></th>\n",
       "      <th>Facility Name</th>\n",
       "      <th>APR DRG Description</th>\n",
       "      <th>APR Severity of Illness Description</th>\n",
       "      <th>Discharges</th>\n",
       "      <th>Mean Charge</th>\n",
       "      <th>Median Charge</th>\n",
       "      <th>Mean Cost</th>\n",
       "    </tr>\n",
       "  </thead>\n",
       "  <tbody>\n",
       "    <tr>\n",
       "      <th>14426</th>\n",
       "      <td>Cayuga Medical Center at Ithaca</td>\n",
       "      <td>Viral Meningitis</td>\n",
       "      <td>Moderate</td>\n",
       "      <td>6</td>\n",
       "      <td>5738.0</td>\n",
       "      <td>5111.0</td>\n",
       "      <td>3949.0</td>\n",
       "    </tr>\n",
       "  </tbody>\n",
       "</table>\n",
       "</div>"
      ],
      "text/plain": [
       "                         Facility Name APR DRG Description  \\\n",
       "14426  Cayuga Medical Center at Ithaca    Viral Meningitis   \n",
       "\n",
       "      APR Severity of Illness Description  Discharges  Mean Charge  \\\n",
       "14426                            Moderate           6       5738.0   \n",
       "\n",
       "       Median Charge  Mean Cost  \n",
       "14426         5111.0     3949.0  "
      ]
     },
     "execution_count": 149,
     "metadata": {},
     "output_type": "execute_result"
    }
   ],
   "source": [
    "nnewd=newdf[newdf['APR Severity of Illness Description']=='Moderate']\n",
    "nndf=nnewd[nnewd['Discharges']>3]\n",
    "nndf=nndf.sort_values(by='Mean Charge',ascending=True)\n",
    "nndf.head(1)"
   ]
  },
  {
   "cell_type": "markdown",
   "metadata": {},
   "source": [
    "6.Find which hospital discharges the most cases of Viral Meningitis for all levels of severity."
   ]
  },
  {
   "cell_type": "code",
   "execution_count": 172,
   "metadata": {},
   "outputs": [
    {
     "data": {
      "text/html": [
       "<div>\n",
       "<style scoped>\n",
       "    .dataframe tbody tr th:only-of-type {\n",
       "        vertical-align: middle;\n",
       "    }\n",
       "\n",
       "    .dataframe tbody tr th {\n",
       "        vertical-align: top;\n",
       "    }\n",
       "\n",
       "    .dataframe thead th {\n",
       "        text-align: right;\n",
       "    }\n",
       "</style>\n",
       "<table border=\"1\" class=\"dataframe\">\n",
       "  <thead>\n",
       "    <tr style=\"text-align: right;\">\n",
       "      <th></th>\n",
       "      <th>Discharges</th>\n",
       "    </tr>\n",
       "    <tr>\n",
       "      <th>Facility Name</th>\n",
       "      <th></th>\n",
       "    </tr>\n",
       "  </thead>\n",
       "  <tbody>\n",
       "    <tr>\n",
       "      <th>North Shore University Hospital</th>\n",
       "      <td>158</td>\n",
       "    </tr>\n",
       "  </tbody>\n",
       "</table>\n",
       "</div>"
      ],
      "text/plain": [
       "                                 Discharges\n",
       "Facility Name                              \n",
       "North Shore University Hospital         158"
      ]
     },
     "execution_count": 172,
     "metadata": {},
     "output_type": "execute_result"
    }
   ],
   "source": [
    "group=newdf[['Facility Name',\"Discharges\"]].groupby('Facility Name').sum()\n",
    "\n",
    "group=group.sort_values('Discharges')\n",
    "group.tail(1)"
   ]
  },
  {
   "cell_type": "markdown",
   "metadata": {},
   "source": [
    "7.Find if there is a correlation between the severity of illness and the charge."
   ]
  },
  {
   "cell_type": "code",
   "execution_count": 171,
   "metadata": {},
   "outputs": [
    {
     "data": {
      "text/html": [
       "<div>\n",
       "<style scoped>\n",
       "    .dataframe tbody tr th:only-of-type {\n",
       "        vertical-align: middle;\n",
       "    }\n",
       "\n",
       "    .dataframe tbody tr th {\n",
       "        vertical-align: top;\n",
       "    }\n",
       "\n",
       "    .dataframe thead th {\n",
       "        text-align: right;\n",
       "    }\n",
       "</style>\n",
       "<table border=\"1\" class=\"dataframe\">\n",
       "  <thead>\n",
       "    <tr style=\"text-align: right;\">\n",
       "      <th></th>\n",
       "      <th>APR Severity of Illness</th>\n",
       "      <th>Mean Charge</th>\n",
       "    </tr>\n",
       "  </thead>\n",
       "  <tbody>\n",
       "    <tr>\n",
       "      <th>APR Severity of Illness</th>\n",
       "      <td>1.000000</td>\n",
       "      <td>0.921642</td>\n",
       "    </tr>\n",
       "    <tr>\n",
       "      <th>Mean Charge</th>\n",
       "      <td>0.921642</td>\n",
       "      <td>1.000000</td>\n",
       "    </tr>\n",
       "  </tbody>\n",
       "</table>\n",
       "</div>"
      ],
      "text/plain": [
       "                         APR Severity of Illness  Mean Charge\n",
       "APR Severity of Illness                 1.000000     0.921642\n",
       "Mean Charge                             0.921642     1.000000"
      ]
     },
     "execution_count": 171,
     "metadata": {},
     "output_type": "execute_result"
    }
   ],
   "source": [
    "group = (newdf[['APR Severity of Illness Description', 'Mean Charge']]\n",
    "    .groupby('APR Severity of Illness Description').mean()\n",
    "    .reset_index())\n",
    "\n",
    "# Let's then rank order the severity level from minor to extreme\n",
    "group['APR Severity of Illness'] = (group['APR Severity of Illness Description']\n",
    "    .map({'Minor': 0, 'Moderate': 1, 'Major': 2, 'Extreme': 3}))\n",
    "\n",
    "group[['APR Severity of Illness', 'Mean Charge']].corr()"
   ]
  },
  {
   "cell_type": "code",
   "execution_count": null,
   "metadata": {
    "collapsed": true
   },
   "outputs": [],
   "source": []
  }
 ],
 "metadata": {
  "kernelspec": {
   "display_name": "Python [default]",
   "language": "python",
   "name": "python3"
  },
  "language_info": {
   "codemirror_mode": {
    "name": "ipython",
    "version": 3
   },
   "file_extension": ".py",
   "mimetype": "text/x-python",
   "name": "python",
   "nbconvert_exporter": "python",
   "pygments_lexer": "ipython3",
   "version": "3.6.5"
  }
 },
 "nbformat": 4,
 "nbformat_minor": 2
}
