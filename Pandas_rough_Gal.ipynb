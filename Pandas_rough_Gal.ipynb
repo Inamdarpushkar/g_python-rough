{
 "cells": [
  {
   "cell_type": "code",
   "execution_count": 89,
   "metadata": {},
   "outputs": [],
   "source": [
    "#importing required libraries\n",
    "import pandas as pd\n",
    "import numpy as np\n",
    "import matplotlib as plt\n",
    "import random\n",
    "%matplotlib inline\n",
    "random.seed(1000)"
   ]
  },
  {
   "cell_type": "code",
   "execution_count": 90,
   "metadata": {
    "collapsed": true
   },
   "outputs": [],
   "source": [
    "#input data\n",
    "df=pd.read_csv(")
   ]
  },
  {
   "cell_type": "code",
   "execution_count": 91,
   "metadata": {},
   "outputs": [
    {
     "data": {
      "text/plain": [
       "Year                                     0\n",
       "Facility Id                              0\n",
       "Facility Name                            0\n",
       "APR DRG Code                             0\n",
       "APR Severity of Illness Code             0\n",
       "APR DRG Description                      0\n",
       "APR Severity of Illness Description    164\n",
       "APR Medical Surgical Code              164\n",
       "APR Medical Surgical Description         0\n",
       "Discharges                               0\n",
       "Mean Charge                              0\n",
       "Median Charge                            0\n",
       "Mean Cost                                0\n",
       "Median Cost                              0\n",
       "dtype: int64"
      ]
     },
     "execution_count": 91,
     "metadata": {},
     "output_type": "execute_result"
    }
   ],
   "source": [
    "#Getting familiarize with the data\n",
    "#Finding the shape and heads of the df\n",
    "df.shape\n",
    "df.head(10)\n",
    "\n",
    "#finging data types in the df\n",
    "df.dtypes\n",
    "\n",
    "#total number of columns in the df\n",
    "len(df.columns)\n",
    "\n",
    "#Understand null values in the df\n",
    "df.isna().sum()\n"
   ]
  },
  {
   "cell_type": "markdown",
   "metadata": {},
   "source": [
    "#1. Create a new column \"Total Charges\" using \"Discharges\" and \"Mean Charge\"."
   ]
  },
  {
   "cell_type": "code",
   "execution_count": 92,
   "metadata": {},
   "outputs": [],
   "source": [
    "df['Total Charges']=df['Discharges']*df['Mean Charge']"
   ]
  },
  {
   "cell_type": "markdown",
   "metadata": {},
   "source": [
    "#2. Do the same for the \"Total Costs\" using \"Mean Cost\""
   ]
  },
  {
   "cell_type": "code",
   "execution_count": 93,
   "metadata": {
    "collapsed": true
   },
   "outputs": [],
   "source": [
    "df['Total Cost']=df['Discharges']*df['Mean Cost']"
   ]
  },
  {
   "cell_type": "markdown",
   "metadata": {},
   "source": [
    "#3.With these two new \"Total Charges\" and \"Total Costs\" columns, calculate the charges to costs \"markup\" rate."
   ]
  },
  {
   "cell_type": "code",
   "execution_count": 94,
   "metadata": {},
   "outputs": [],
   "source": [
    "df['markup rate']=df['Total Charges']/df['Total Cost']"
   ]
  },
  {
   "cell_type": "markdown",
   "metadata": {},
   "source": [
    "#4.Tell me which facility has the highest \"markup\" rate, and which one has the lowest \"markup\" rate. (It's always good to do a sanity check, do these results make sense to you?)"
   ]
  },
  {
   "cell_type": "code",
   "execution_count": 95,
   "metadata": {},
   "outputs": [
    {
     "data": {
      "text/html": [
       "<div>\n",
       "<style scoped>\n",
       "    .dataframe tbody tr th:only-of-type {\n",
       "        vertical-align: middle;\n",
       "    }\n",
       "\n",
       "    .dataframe tbody tr th {\n",
       "        vertical-align: top;\n",
       "    }\n",
       "\n",
       "    .dataframe thead th {\n",
       "        text-align: right;\n",
       "    }\n",
       "</style>\n",
       "<table border=\"1\" class=\"dataframe\">\n",
       "  <thead>\n",
       "    <tr style=\"text-align: right;\">\n",
       "      <th></th>\n",
       "      <th>Facility Name</th>\n",
       "      <th>Total Charges</th>\n",
       "      <th>Total Cost</th>\n",
       "      <th>markup rate</th>\n",
       "    </tr>\n",
       "  </thead>\n",
       "  <tbody>\n",
       "    <tr>\n",
       "      <th>111925</th>\n",
       "      <td>SUNY Downstate Medical Center at LICH</td>\n",
       "      <td>43088.0</td>\n",
       "      <td>2068.0</td>\n",
       "      <td>20.83559</td>\n",
       "    </tr>\n",
       "  </tbody>\n",
       "</table>\n",
       "</div>"
      ],
      "text/plain": [
       "                                Facility Name  Total Charges  Total Cost  \\\n",
       "111925  SUNY Downstate Medical Center at LICH        43088.0      2068.0   \n",
       "\n",
       "        markup rate  \n",
       "111925     20.83559  "
      ]
     },
     "execution_count": 95,
     "metadata": {},
     "output_type": "execute_result"
    }
   ],
   "source": [
    "#Finding the unique categories in the data\n",
    "len(df['Facility Name'].unique())\n",
    "\n",
    "#min/max\n",
    "max(df['markup rate'])\n",
    "min(df['markup rate'])\n",
    "\n",
    "#Sorting the column\n",
    "df=df.sort_values(by=['markup rate'],ascending=True)\n",
    "\n",
    "#facility has the highest \"markup\" rate\n",
    "df[['Facility Name','Total Charges','Total Cost','markup rate']].head(1)\n",
    "\n",
    "#facility has the lowest \"markup\" rate\n",
    "df[['Facility Name','Total Charges','Total Cost','markup rate']].tail(1)"
   ]
  },
  {
   "cell_type": "markdown",
   "metadata": {},
   "source": [
    "##What are the top 10 reasons people are going to the hospital for, and how many people did they see."
   ]
  },
  {
   "cell_type": "code",
   "execution_count": 97,
   "metadata": {},
   "outputs": [
    {
     "data": {
      "text/plain": [
       "APR DRG Description\n",
       "Pancreas Transplant                                                120\n",
       "Neonate W Ecmo                                                     123\n",
       "Principal Diagnosis Invalid As Discharge Diagnosis                 129\n",
       "Extensive 3Rd Degree Burns W Skin Graft                            132\n",
       "Neonate, Transferred <5 Days Old, Not Born Here                    224\n",
       "Ungroupable                                                        359\n",
       "Neonate Birthwt 1000-1249G W Or W/O Other Significant Condition    477\n",
       "Neonatal Aftercare                                                 497\n",
       "Craniotomy For Multiple Significant Trauma                         515\n",
       "Mental Illness Diagnosis W O.R. Procedure                          532\n",
       "Name: Discharges, dtype: int64"
      ]
     },
     "execution_count": 97,
     "metadata": {},
     "output_type": "execute_result"
    }
   ],
   "source": [
    "d_grp=df.groupby(['APR DRG Description'])['Discharges'].sum()\n",
    "d_grp=d_grp.sort_values()\n",
    "d_grp.head(10)"
   ]
  },
  {
   "cell_type": "code",
   "execution_count": 101,
   "metadata": {
    "collapsed": true
   },
   "outputs": [],
   "source": [
    "net=df[['Facility Name', 'Total Charges', 'Total Cost']]"
   ]
  },
  {
   "cell_type": "code",
   "execution_count": 107,
   "metadata": {},
   "outputs": [],
   "source": [
    "spent=df.groupby(['Facility Name'])['Total Charges','Total Cost'].sum()\n"
   ]
  },
  {
   "cell_type": "code",
   "execution_count": 109,
   "metadata": {},
   "outputs": [],
   "source": [
    "spent['Total']=spent['Total Charges']+spent['Total Cost']"
   ]
  },
  {
   "cell_type": "code",
   "execution_count": 110,
   "metadata": {},
   "outputs": [
    {
     "data": {
      "text/html": [
       "<div>\n",
       "<style scoped>\n",
       "    .dataframe tbody tr th:only-of-type {\n",
       "        vertical-align: middle;\n",
       "    }\n",
       "\n",
       "    .dataframe tbody tr th {\n",
       "        vertical-align: top;\n",
       "    }\n",
       "\n",
       "    .dataframe thead th {\n",
       "        text-align: right;\n",
       "    }\n",
       "</style>\n",
       "<table border=\"1\" class=\"dataframe\">\n",
       "  <thead>\n",
       "    <tr style=\"text-align: right;\">\n",
       "      <th></th>\n",
       "      <th>Total Charges</th>\n",
       "      <th>Total Cost</th>\n",
       "      <th>Total</th>\n",
       "    </tr>\n",
       "    <tr>\n",
       "      <th>Facility Name</th>\n",
       "      <th></th>\n",
       "      <th></th>\n",
       "      <th></th>\n",
       "    </tr>\n",
       "  </thead>\n",
       "  <tbody>\n",
       "    <tr>\n",
       "      <th>Adirondack Medical Center-Saranac Lake Site</th>\n",
       "      <td>1.415735e+08</td>\n",
       "      <td>7.742766e+07</td>\n",
       "      <td>2.190012e+08</td>\n",
       "    </tr>\n",
       "    <tr>\n",
       "      <th>Albany Medical Center - South Clinical Campus</th>\n",
       "      <td>1.802808e+06</td>\n",
       "      <td>1.432784e+06</td>\n",
       "      <td>3.235592e+06</td>\n",
       "    </tr>\n",
       "    <tr>\n",
       "      <th>Albany Medical Center Hospital</th>\n",
       "      <td>3.763945e+09</td>\n",
       "      <td>1.336299e+09</td>\n",
       "      <td>5.100244e+09</td>\n",
       "    </tr>\n",
       "    <tr>\n",
       "      <th>Albany Memorial Hospital</th>\n",
       "      <td>2.219740e+08</td>\n",
       "      <td>9.490717e+07</td>\n",
       "      <td>3.168812e+08</td>\n",
       "    </tr>\n",
       "    <tr>\n",
       "      <th>Alice Hyde Medical Center</th>\n",
       "      <td>8.723797e+07</td>\n",
       "      <td>4.105882e+07</td>\n",
       "      <td>1.282968e+08</td>\n",
       "    </tr>\n",
       "    <tr>\n",
       "      <th>Arnot Ogden Medical Center</th>\n",
       "      <td>6.251266e+08</td>\n",
       "      <td>2.696178e+08</td>\n",
       "      <td>8.947444e+08</td>\n",
       "    </tr>\n",
       "    <tr>\n",
       "      <th>Auburn Community Hospital</th>\n",
       "      <td>2.496035e+08</td>\n",
       "      <td>8.716358e+07</td>\n",
       "      <td>3.367671e+08</td>\n",
       "    </tr>\n",
       "    <tr>\n",
       "      <th>Aurelia Osborn Fox Memorial Hospital</th>\n",
       "      <td>3.545323e+07</td>\n",
       "      <td>2.082996e+07</td>\n",
       "      <td>5.628318e+07</td>\n",
       "    </tr>\n",
       "    <tr>\n",
       "      <th>Bellevue Hospital Center</th>\n",
       "      <td>1.675103e+09</td>\n",
       "      <td>1.271430e+09</td>\n",
       "      <td>2.946532e+09</td>\n",
       "    </tr>\n",
       "    <tr>\n",
       "      <th>Benedictine Hospital</th>\n",
       "      <td>4.622643e+08</td>\n",
       "      <td>1.450321e+08</td>\n",
       "      <td>6.072964e+08</td>\n",
       "    </tr>\n",
       "  </tbody>\n",
       "</table>\n",
       "</div>"
      ],
      "text/plain": [
       "                                               Total Charges    Total Cost  \\\n",
       "Facility Name                                                                \n",
       "Adirondack Medical Center-Saranac Lake Site     1.415735e+08  7.742766e+07   \n",
       "Albany Medical Center - South Clinical Campus   1.802808e+06  1.432784e+06   \n",
       "Albany Medical Center Hospital                  3.763945e+09  1.336299e+09   \n",
       "Albany Memorial Hospital                        2.219740e+08  9.490717e+07   \n",
       "Alice Hyde Medical Center                       8.723797e+07  4.105882e+07   \n",
       "Arnot Ogden Medical Center                      6.251266e+08  2.696178e+08   \n",
       "Auburn Community Hospital                       2.496035e+08  8.716358e+07   \n",
       "Aurelia Osborn Fox Memorial Hospital            3.545323e+07  2.082996e+07   \n",
       "Bellevue Hospital Center                        1.675103e+09  1.271430e+09   \n",
       "Benedictine Hospital                            4.622643e+08  1.450321e+08   \n",
       "\n",
       "                                                      Total  \n",
       "Facility Name                                                \n",
       "Adirondack Medical Center-Saranac Lake Site    2.190012e+08  \n",
       "Albany Medical Center - South Clinical Campus  3.235592e+06  \n",
       "Albany Medical Center Hospital                 5.100244e+09  \n",
       "Albany Memorial Hospital                       3.168812e+08  \n",
       "Alice Hyde Medical Center                      1.282968e+08  \n",
       "Arnot Ogden Medical Center                     8.947444e+08  \n",
       "Auburn Community Hospital                      3.367671e+08  \n",
       "Aurelia Osborn Fox Memorial Hospital           5.628318e+07  \n",
       "Bellevue Hospital Center                       2.946532e+09  \n",
       "Benedictine Hospital                           6.072964e+08  "
      ]
     },
     "execution_count": 110,
     "metadata": {},
     "output_type": "execute_result"
    }
   ],
   "source": [
    "spent.head(10)"
   ]
  },
  {
   "cell_type": "code",
   "execution_count": 116,
   "metadata": {},
   "outputs": [
    {
     "data": {
      "text/plain": [
       "<matplotlib.axes._subplots.AxesSubplot at 0x10c8a7940>"
      ]
     },
     "execution_count": 116,
     "metadata": {},
     "output_type": "execute_result"
    },
    {
     "data": {
      "image/png": "iVBORw0KGgoAAAANSUhEUgAAAXoAAAEJCAYAAACaFuz/AAAABHNCSVQICAgIfAhkiAAAAAlwSFlz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\n",
      "text/plain": [
       "<Figure size 432x288 with 1 Axes>"
      ]
     },
     "metadata": {},
     "output_type": "display_data"
    }
   ],
   "source": [
    "spent['Total'].hist()"
   ]
  },
  {
   "cell_type": "code",
   "execution_count": null,
   "metadata": {
    "collapsed": true
   },
   "outputs": [],
   "source": []
  },
  {
   "cell_type": "code",
   "execution_count": null,
   "metadata": {
    "collapsed": true
   },
   "outputs": [],
   "source": []
  }
 ],
 "metadata": {
  "kernelspec": {
   "display_name": "Python [default]",
   "language": "python",
   "name": "python3"
  },
  "language_info": {
   "codemirror_mode": {
    "name": "ipython",
    "version": 3
   },
   "file_extension": ".py",
   "mimetype": "text/x-python",
   "name": "python",
   "nbconvert_exporter": "python",
   "pygments_lexer": "ipython3",
   "version": "3.6.5"
  }
 },
 "nbformat": 4,
 "nbformat_minor": 2
}
